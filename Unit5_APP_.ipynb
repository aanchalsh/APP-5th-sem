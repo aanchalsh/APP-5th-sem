{
  "nbformat": 4,
  "nbformat_minor": 0,
  "metadata": {
    "colab": {
      "name": "Unit5 APP .ipynb",
      "provenance": [],
      "include_colab_link": true
    },
    "kernelspec": {
      "name": "python3",
      "display_name": "Python 3"
    },
    "language_info": {
      "name": "python"
    }
  },
  "cells": [
    {
      "cell_type": "markdown",
      "metadata": {
        "id": "view-in-github",
        "colab_type": "text"
      },
      "source": [
        "<a href=\"https://colab.research.google.com/github/aanchalsh/APP-5th-sem/blob/main/Unit5_APP_.ipynb\" target=\"_parent\"><img src=\"https://colab.research.google.com/assets/colab-badge.svg\" alt=\"Open In Colab\"/></a>"
      ]
    },
    {
      "cell_type": "code",
      "execution_count": null,
      "metadata": {
        "id": "IEWbUWaAB1_t"
      },
      "outputs": [],
      "source": [
        "import numpy as np\n",
        "import pandas as pd"
      ]
    },
    {
      "cell_type": "code",
      "source": [
        "# Dataframe of number of sales made by an employee\n",
        "sales = {'Tony': 103,\n",
        "         'Sally': 202,\n",
        "         'Randy': 380,\n",
        "         'Ellen': 101,\n",
        "         'Fred': 82\n",
        "        }\n",
        "        \n",
        "        # Dataframe of all employees and the region they work in\n",
        "region = {'Tony': 'West',\n",
        "          'Sally': 'South',\n",
        "          'Carl': 'West',\n",
        "          'Archie': 'North',\n",
        "          'Randy': 'East',\n",
        "          'Ellen': 'South',\n",
        "          'Fred': np.nan,\n",
        "          'Mo': 'East',\n",
        "          'HanWei': np.nan,\n",
        "         }"
      ],
      "metadata": {
        "id": "ksvHK-D4B50f"
      },
      "execution_count": null,
      "outputs": []
    },
    {
      "cell_type": "code",
      "source": [
        "# Make dataframes\n",
        "sales_df = pd.DataFrame.from_dict(sales, orient='index', \n",
        "                                  columns=['sales'])\n",
        "region_df = pd.DataFrame.from_dict(region, orient='index', \n",
        "                                   columns=['region'])"
      ],
      "metadata": {
        "id": "PND6F4W2B7ue"
      },
      "execution_count": null,
      "outputs": []
    },
    {
      "cell_type": "code",
      "source": [
        "sales_df.loc['Tony']"
      ],
      "metadata": {
        "colab": {
          "base_uri": "https://localhost:8080/"
        },
        "id": "07VM39fXCJdg",
        "outputId": "33013119-832d-4954-b5e8-8f17e37df281"
      },
      "execution_count": null,
      "outputs": [
        {
          "output_type": "execute_result",
          "data": {
            "text/plain": [
              "sales    103\n",
              "Name: Tony, dtype: int64"
            ]
          },
          "metadata": {},
          "execution_count": 4
        }
      ]
    },
    {
      "cell_type": "code",
      "source": [
        " sales_df.index"
      ],
      "metadata": {
        "colab": {
          "base_uri": "https://localhost:8080/"
        },
        "id": "pTecMRBHCRhC",
        "outputId": "0376e16e-3113-480e-8854-40d061ba273f"
      },
      "execution_count": null,
      "outputs": [
        {
          "output_type": "execute_result",
          "data": {
            "text/plain": [
              "Index(['Tony', 'Sally', 'Randy', 'Ellen', 'Fred'], dtype='object')"
            ]
          },
          "metadata": {},
          "execution_count": 5
        }
      ]
    },
    {
      "cell_type": "code",
      "source": [
        "joined_df = region_df.join(sales_df, how='left')\n",
        "print(joined_df)"
      ],
      "metadata": {
        "colab": {
          "base_uri": "https://localhost:8080/"
        },
        "id": "PYD8NDBlCThI",
        "outputId": "473a746c-935b-428b-9275-f74abe31ecce"
      },
      "execution_count": null,
      "outputs": [
        {
          "output_type": "stream",
          "name": "stdout",
          "text": [
            "       region  sales\n",
            "Tony     West  103.0\n",
            "Sally   South  202.0\n",
            "Carl     West    NaN\n",
            "Archie  North    NaN\n",
            "Randy    East  380.0\n",
            "Ellen   South  101.0\n",
            "Fred      NaN   82.0\n",
            "Mo       East    NaN\n",
            "HanWei    NaN    NaN\n"
          ]
        }
      ]
    },
    {
      "cell_type": "code",
      "source": [
        "joined_df = region_df.join(sales_df, how='right')\n",
        "print(joined_df)"
      ],
      "metadata": {
        "colab": {
          "base_uri": "https://localhost:8080/"
        },
        "id": "trZxh2lDCYw1",
        "outputId": "215ba621-f1c0-4969-c3fb-de4b1ab7608c"
      },
      "execution_count": null,
      "outputs": [
        {
          "output_type": "stream",
          "name": "stdout",
          "text": [
            "      region  sales\n",
            "Tony    West    103\n",
            "Sally  South    202\n",
            "Randy   East    380\n",
            "Ellen  South    101\n",
            "Fred     NaN     82\n"
          ]
        }
      ]
    },
    {
      "cell_type": "code",
      "source": [
        "grouped_df = joined_df.groupby(by='region').sum()\n",
        "grouped_df.reset_index(inplace=True)\n",
        "print(grouped_df)"
      ],
      "metadata": {
        "colab": {
          "base_uri": "https://localhost:8080/"
        },
        "id": "iqHQaIvyCfpi",
        "outputId": "89603d34-0e73-4437-f13c-f47a074d2862"
      },
      "execution_count": null,
      "outputs": [
        {
          "output_type": "stream",
          "name": "stdout",
          "text": [
            "  region  sales\n",
            "0   East    380\n",
            "1  South    303\n",
            "2   West    103\n"
          ]
        }
      ]
    },
    {
      "cell_type": "code",
      "source": [
        "employee_contrib = joined_df.merge(grouped_df, how='left', \n",
        "                                         left_on='region', \n",
        "                                         right_on='region',\n",
        "                                         suffixes=('','_region'))\n",
        "print(employee_contrib)"
      ],
      "metadata": {
        "colab": {
          "base_uri": "https://localhost:8080/"
        },
        "id": "K4-C2w7qC_gh",
        "outputId": "826366ad-a743-438a-ad5a-02f3dea0cf28"
      },
      "execution_count": null,
      "outputs": [
        {
          "output_type": "stream",
          "name": "stdout",
          "text": [
            "  region  sales  sales_region\n",
            "0   West    103         103.0\n",
            "1  South    202         303.0\n",
            "2   East    380         380.0\n",
            "3  South    101         303.0\n",
            "4    NaN     82           NaN\n"
          ]
        }
      ]
    },
    {
      "cell_type": "code",
      "source": [
        "employee_contrib = employee_contrib.set_index(joined_df.index)\n",
        "print(employee_contrib)"
      ],
      "metadata": {
        "colab": {
          "base_uri": "https://localhost:8080/"
        },
        "id": "4Hu0fwRpDcw3",
        "outputId": "3e05fd0a-2c30-43b1-a6b3-277dfe26a754"
      },
      "execution_count": null,
      "outputs": [
        {
          "output_type": "stream",
          "name": "stdout",
          "text": [
            "      region  sales  sales_region\n",
            "Tony    West    103         103.0\n",
            "Sally  South    202         303.0\n",
            "Randy   East    380         380.0\n",
            "Ellen  South    101         303.0\n",
            "Fred     NaN     82           NaN\n"
          ]
        }
      ]
    },
    {
      "cell_type": "code",
      "source": [
        "# Drop NAs in region column\n",
        "employee_contrib = employee_contrib.dropna(subset=['region'])\n",
        "print(employee_contrib)"
      ],
      "metadata": {
        "colab": {
          "base_uri": "https://localhost:8080/"
        },
        "id": "0rJdDb9JDo6x",
        "outputId": "6159fc16-6862-4017-84d0-257cf901ab97"
      },
      "execution_count": null,
      "outputs": [
        {
          "output_type": "stream",
          "name": "stdout",
          "text": [
            "      region  sales  sales_region\n",
            "Tony    West    103         103.0\n",
            "Sally  South    202         303.0\n",
            "Randy   East    380         380.0\n",
            "Ellen  South    101         303.0\n"
          ]
        }
      ]
    },
    {
      "cell_type": "code",
      "source": [
        "# Fill NAs in sales column with 0\n",
        "employee_contrib = employee_contrib.fillna({'sales': 0})\n",
        "print(employee_contrib)"
      ],
      "metadata": {
        "colab": {
          "base_uri": "https://localhost:8080/"
        },
        "id": "5O5ZtyElDvRR",
        "outputId": "9c429bd1-d3dc-43f8-b86f-f7253fd4c11b"
      },
      "execution_count": null,
      "outputs": [
        {
          "output_type": "stream",
          "name": "stdout",
          "text": [
            "      region  sales  sales_region\n",
            "Tony    West    103         103.0\n",
            "Sally  South    202         303.0\n",
            "Randy   East    380         380.0\n",
            "Ellen  South    101         303.0\n"
          ]
        }
      ]
    },
    {
      "cell_type": "code",
      "source": [
        "employee_contrib['%_of_sales'] = employee_contrib['sales']/employee_contrib['sales_region']"
      ],
      "metadata": {
        "id": "rpSNII0MD2M9"
      },
      "execution_count": null,
      "outputs": []
    }
  ]
}