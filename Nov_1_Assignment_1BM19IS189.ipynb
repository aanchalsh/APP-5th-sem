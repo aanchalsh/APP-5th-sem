{
  "nbformat": 4,
  "nbformat_minor": 0,
  "metadata": {
    "colab": {
      "name": "Nov 1 Assignment -1BM19IS189.ipynb",
      "provenance": [],
      "authorship_tag": "ABX9TyM5N6EFFykxIC84btabfWOn",
      "include_colab_link": true
    },
    "kernelspec": {
      "name": "python3",
      "display_name": "Python 3"
    },
    "language_info": {
      "name": "python"
    }
  },
  "cells": [
    {
      "cell_type": "markdown",
      "metadata": {
        "id": "view-in-github",
        "colab_type": "text"
      },
      "source": [
        "<a href=\"https://colab.research.google.com/github/aanchalsh/APP-5th-sem/blob/main/Nov_1_Assignment_1BM19IS189.ipynb\" target=\"_parent\"><img src=\"https://colab.research.google.com/assets/colab-badge.svg\" alt=\"Open In Colab\"/></a>"
      ]
    },
    {
      "cell_type": "code",
      "metadata": {
        "colab": {
          "base_uri": "https://localhost:8080/"
        },
        "id": "GT109Q90yTpB",
        "outputId": "4e0e1a38-9192-49de-a33e-967fd207f8df"
      },
      "source": [
        "#1.Write a Python program that takes a text file as input and returns the number of words of a given text file.\n",
        "fname = input(\"Enter file name: \")\n",
        "num_words = 0 \n",
        "with open(fname, 'r') as f:\n",
        "    for line in f:\n",
        "        words = line.split()\n",
        "        num_words += len(words)\n",
        "print(\"Number of words:\")\n",
        "print(num_words)"
      ],
      "execution_count": 1,
      "outputs": [
        {
          "output_type": "stream",
          "name": "stdout",
          "text": [
            "Enter file name: sample.txt\n",
            "Number of words:\n",
            "4\n"
          ]
        }
      ]
    },
    {
      "cell_type": "code",
      "metadata": {
        "id": "ubhZphpNysUZ"
      },
      "source": [
        "#2.Write a Python program to generate 26 text files named A.txt, B.txt, and so on up to Z.txt\n",
        "import string, os\n",
        "if not os.path.exists(\"letters\"):\n",
        "   os.makedirs(\"letters\")\n",
        "for letter in string.ascii_uppercase:\n",
        "   with open(letter + \".txt\", \"w\") as f:\n",
        "       f.writelines(letter)"
      ],
      "execution_count": 3,
      "outputs": []
    },
    {
      "cell_type": "code",
      "metadata": {
        "colab": {
          "base_uri": "https://localhost:8080/"
        },
        "id": "zdKZ8GhZzAix",
        "outputId": "98d026be-8973-4429-9ee3-89e57c0f89fc"
      },
      "source": [
        "#3.Write a Python program to count the number of lines in a text file\n",
        "fname = input(\"Enter file name: \")\n",
        "num_lines = 0\n",
        "with open(fname, 'r') as f:\n",
        "    for line in f:\n",
        "        num_lines += 1\n",
        "print(\"Number of lines:\")\n",
        "print(num_lines)"
      ],
      "execution_count": 2,
      "outputs": [
        {
          "output_type": "stream",
          "name": "stdout",
          "text": [
            "Enter file name: sample.txt\n",
            "Number of lines:\n",
            "3\n"
          ]
        }
      ]
    },
    {
      "cell_type": "code",
      "metadata": {
        "id": "BbSCttqlzTGO"
      },
      "source": [
        "#4.Write a Python program to read an entire text file.\n",
        "f = open('sample.txt',mode='r')\n",
        "entire_f = f.read()\n",
        "f.close()"
      ],
      "execution_count": 4,
      "outputs": []
    }
  ]
}