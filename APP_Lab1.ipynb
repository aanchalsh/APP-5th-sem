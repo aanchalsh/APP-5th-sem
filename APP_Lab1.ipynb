{
  "nbformat": 4,
  "nbformat_minor": 0,
  "metadata": {
    "colab": {
      "name": "APP Lab1.ipynb",
      "provenance": [],
      "collapsed_sections": [],
      "authorship_tag": "ABX9TyOQdl9qH9/G1HzSEhTjEdtM",
      "include_colab_link": true
    },
    "kernelspec": {
      "name": "python3",
      "display_name": "Python 3"
    },
    "language_info": {
      "name": "python"
    }
  },
  "cells": [
    {
      "cell_type": "markdown",
      "metadata": {
        "id": "view-in-github",
        "colab_type": "text"
      },
      "source": [
        "<a href=\"https://colab.research.google.com/github/aanchalsh/APP-5th-sem/blob/main/APP_Lab1.ipynb\" target=\"_parent\"><img src=\"https://colab.research.google.com/assets/colab-badge.svg\" alt=\"Open In Colab\"/></a>"
      ]
    },
    {
      "cell_type": "code",
      "metadata": {
        "colab": {
          "base_uri": "https://localhost:8080/"
        },
        "id": "ZYLepIISGPo0",
        "outputId": "66ade19d-bb57-49dc-ea0b-01833c56ad90"
      },
      "source": [
        "# DATE: 10:12:2021\n",
        "# 1.Write a python program to check the given number is even or odd using if-else construct.\n",
        "\n",
        "a=int(input(\"Enter a number:\"))\n",
        "def evenNumber(a):\n",
        "  if(a%2==0):\n",
        "    print(\"Given number:\",a,\" is an even number.\")\n",
        "  else:\n",
        "    print(\"Given number:\",a,\" is an odd number.\")\n",
        "evenNumber(a)"
      ],
      "execution_count": 1,
      "outputs": [
        {
          "output_type": "stream",
          "name": "stdout",
          "text": [
            "Enter a number:2\n",
            "Given number: 2  is an even number.\n"
          ]
        }
      ]
    },
    {
      "cell_type": "code",
      "metadata": {
        "colab": {
          "base_uri": "https://localhost:8080/"
        },
        "id": "0RbK8rtYG7tK",
        "outputId": "34f2ac4a-b99c-4d28-df78-73a68fe364b2"
      },
      "source": [
        "# 2) Write a python program to print the largest of three numbers using if construct.\n",
        "a=int(input(\"Enter first number:\"))\n",
        "b=int(input(\"Enter second number:\"))\n",
        "c=int(input(\"Enter third number:\"))\n",
        "def largestNumber(a,b,c):\n",
        "  if((a>=b) and (a>=c)):\n",
        "    print(\"Given number:\",a,\"is largest.\")\n",
        "  elif (b>=c):\n",
        "    print(\"Given number:\",b,\"is largest.\")\n",
        "  else:\n",
        "    print(\"Given number:\",c,\"is largest.\")\n",
        "largestNumber(a,b,c)\n"
      ],
      "execution_count": 3,
      "outputs": [
        {
          "output_type": "stream",
          "name": "stdout",
          "text": [
            "Enter first number:2\n",
            "Enter second number:3\n",
            "Enter third number:1\n",
            "Given number: 3 is largest.\n"
          ]
        }
      ]
    },
    {
      "cell_type": "code",
      "metadata": {
        "colab": {
          "base_uri": "https://localhost:8080/"
        },
        "id": "Uxst8fxbHqS5",
        "outputId": "31d27df9-c303-47f3-fac9-ce6d7c70dd02"
      },
      "source": [
        "# 3.Write a python program to check the given number is positive, negative or zero using if-else construct.\n",
        "a=int(input(\"Enter a number:\"))\n",
        "def NumberFunc3(a):\n",
        "  if(a>0):\n",
        "    print(\"Positive integer.\")\n",
        "  elif(a<0):\n",
        "    print(\"Negative integer.\")\n",
        "  elif(a==0):\n",
        "    print(\"Number is equal to zero.\")\n",
        "  else:\n",
        "    print(\"Invalid input.\")\n",
        "NumberFunc3(a)\n"
      ],
      "execution_count": 4,
      "outputs": [
        {
          "output_type": "stream",
          "name": "stdout",
          "text": [
            "Enter a number:3\n",
            "Positive integer.\n"
          ]
        }
      ]
    },
    {
      "cell_type": "code",
      "metadata": {
        "colab": {
          "base_uri": "https://localhost:8080/"
        },
        "id": "fP8DEHTYIVmP",
        "outputId": "a46cc906-1a2b-4540-f5b3-338f395b0c50"
      },
      "source": [
        "# 4) Write a python program the grade of the student using if-else construct.\n",
        "\n",
        "marks=float(input(\"Enter total marks of the student(out of 100): \"))\n",
        "def GradeFunc(marks):\n",
        "  if(marks>=90):\n",
        "    print(\"Student achieved Grade A.\")\n",
        "  elif((marks>=60) and (marks<90)):\n",
        "    print(\"Student achieved Grade B.\")\n",
        "  elif((marks>=40) and (marks<60)):\n",
        "    print(\"Student achieved Grade C.\")\n",
        "  elif((marks>=30) and (marks<40)):\n",
        "    print(\"Student achieved Grade D.\")\n",
        "  elif((marks>=20) and (marks<30)):\n",
        "    print(\"Student achieved Grade E.\")\n",
        "  elif((marks>=1) and (marks<20)):\n",
        "    print(\"Student achieved Grade F.\")  \n",
        "  else:\n",
        "    print(\"Invalid Input. \")\n",
        "\n",
        "GradeFunc(marks)\n",
        "  \n"
      ],
      "execution_count": 11,
      "outputs": [
        {
          "output_type": "stream",
          "name": "stdout",
          "text": [
            "Enter total marks of the student(out of 100): 20\n",
            "Student achieved Grade E.\n"
          ]
        }
      ]
    },
    {
      "cell_type": "code",
      "metadata": {
        "colab": {
          "base_uri": "https://localhost:8080/"
        },
        "id": "PVgLBgDeJktY",
        "outputId": "a2a0cb80-8749-4b3f-c3fd-7b81a4647145"
      },
      "source": [
        "# 5) Write a python program to perform arithmetic operations.\n",
        "a=int(input(\"Enter first  number:\"))\n",
        "b=int(input(\"Enter second number:\"))\n",
        "def add(a,b):\n",
        "  print(a+b)\n",
        "def sub(a,b):\n",
        "  print(a-b)\n",
        "def mul(a,b):\n",
        "  print(a*b)\n",
        "def div(a,b):\n",
        "  print(a-b)\n",
        "print(\"Sum:\")\n",
        "add(a,b)\n",
        "print(\"Difference:\")\n",
        "sub(a,b)\n",
        "print(\"Product:\")\n",
        "mul(a,b)\n",
        "print(\"Division:\")\n",
        "div(a,b)"
      ],
      "execution_count": 14,
      "outputs": [
        {
          "output_type": "stream",
          "name": "stdout",
          "text": [
            "Enter first  number:1\n",
            "Enter second number:2\n",
            "Sum:\n",
            "3\n",
            "Difference:\n",
            "-1\n",
            "Product:\n",
            "2\n",
            "Division\n",
            "-1\n"
          ]
        }
      ]
    },
    {
      "cell_type": "code",
      "metadata": {
        "colab": {
          "base_uri": "https://localhost:8080/"
        },
        "id": "YGsOOopwLcMP",
        "outputId": "382ca8f6-1a64-4ae4-a54f-b051bf22857c"
      },
      "source": [
        "#6.Write a python program to check the type of triangle.\n",
        "a=int(input(\"Enter first side of the triangle: \"))\n",
        "b=int(input(\"Enter second side of the triangle; \"))\n",
        "c=int(input(\"Enter third side of the triangle: \"))\n",
        "if((a==b) and (a==c)):\n",
        "  print(\"Equivalence Triangle.\")\n",
        "elif((b==c) or (a==b) or (a==c)):\n",
        "  print(\"Isoceles Triangle.\")\n",
        "else:\n",
        "  print(\"Scalene Triangle.\")\n",
        "\n"
      ],
      "execution_count": 18,
      "outputs": [
        {
          "output_type": "stream",
          "name": "stdout",
          "text": [
            "Enter first side of the triangle2\n",
            "Enter second side of the triangle2\n",
            "Enter third side of the triangle1\n",
            "Isoceles Triangle.\n"
          ]
        }
      ]
    },
    {
      "cell_type": "code",
      "metadata": {
        "colab": {
          "base_uri": "https://localhost:8080/"
        },
        "id": "Mdhit1scMjMZ",
        "outputId": "6ba99b01-97f3-480f-d877-0a2be3a45658"
      },
      "source": [
        "# 7) Write a program to print the square of two numbers from a given list l=[2,4,6,8,10] using for loop construct.\n",
        "# a=int(input(\"Enter a number: \"))\n",
        "l=[2,4,6,8,10]\n",
        "j=0\n",
        "for i in l:\n",
        "  print(i*i)"
      ],
      "execution_count": 19,
      "outputs": [
        {
          "output_type": "stream",
          "name": "stdout",
          "text": [
            "4\n",
            "16\n",
            "36\n",
            "64\n",
            "100\n"
          ]
        }
      ]
    },
    {
      "cell_type": "code",
      "metadata": {
        "colab": {
          "base_uri": "https://localhost:8080/"
        },
        "id": "nZgVDln3NN9F",
        "outputId": "5a278349-e58d-47b3-b607-5a8920ab33c4"
      },
      "source": [
        "# 8) Write a program to print the sum of all numbers of the given list l=[25,42,32,12,33] using for loop construct.\n",
        "l=[25,42,32,12,33]\n",
        "sum=0\n",
        "for i in l:\n",
        "  sum=sum+i\n",
        "print(sum)\n"
      ],
      "execution_count": 24,
      "outputs": [
        {
          "output_type": "stream",
          "name": "stdout",
          "text": [
            "144\n"
          ]
        }
      ]
    },
    {
      "cell_type": "code",
      "metadata": {
        "colab": {
          "base_uri": "https://localhost:8080/"
        },
        "id": "WcJz1ZWTNloC",
        "outputId": "e651a28f-35b3-468f-9086-5f0aae5054dc"
      },
      "source": [
        "# 9) Write a program to find the sum of first n natural number using range() function.\n",
        "\n",
        "n=int(input(\"Enter range:\"))\n",
        "sum=0\n",
        "for i in range(0,n):\n",
        "  sum=(n*(n+1)/2)\n",
        "print(\"Sum of \", n,\" natural numbers:\",sum)"
      ],
      "execution_count": 34,
      "outputs": [
        {
          "output_type": "stream",
          "name": "stdout",
          "text": [
            "Enter range:10\n",
            "Sum of  10  natural numbers: 55.0\n"
          ]
        }
      ]
    },
    {
      "cell_type": "code",
      "metadata": {
        "colab": {
          "base_uri": "https://localhost:8080/"
        },
        "id": "SB4tairBN_y5",
        "outputId": "3d049bf0-73c0-413b-dba6-851e4dbf3fd4"
      },
      "source": [
        "# 10) Write a python program to check the given number is prime or not.\n",
        "a=int(input(\"Enter a number:\"))\n",
        "count=0\n",
        "for i in range (1,a+1):\n",
        "  if(a%i==0):\n",
        "    count=count+1\n",
        "      #i=i+1\n",
        "if(count!=2):\n",
        "  print(\"Composite number\")\n",
        "else :\n",
        "  print(\"Prime number\")"
      ],
      "execution_count": 47,
      "outputs": [
        {
          "output_type": "stream",
          "name": "stdout",
          "text": [
            "Enter a number:4\n",
            "Composite number\n"
          ]
        }
      ]
    },
    {
      "cell_type": "code",
      "metadata": {
        "id": "iWF_W6maSasi"
      },
      "source": [
        ""
      ],
      "execution_count": null,
      "outputs": []
    },
    {
      "cell_type": "code",
      "metadata": {
        "colab": {
          "base_uri": "https://localhost:8080/"
        },
        "id": "gMyXt-qDRDTk",
        "outputId": "3cce137f-a498-46fa-8aa9-0f60ecc930b1"
      },
      "source": [
        "# 11) Write a python program to print the table of a given number using while loop.\n",
        "a=int(input(\"Enter a number :\"))\n",
        "print(\"Multiplication Table of\",a)\n",
        "for i in range(1,11):\n",
        "  print(\"\",a,\"*\",i,\"=\",a*i)\n"
      ],
      "execution_count": 43,
      "outputs": [
        {
          "output_type": "stream",
          "name": "stdout",
          "text": [
            "Enter a number :2\n",
            "Multiplication Table of: 2\n",
            " 2 * 1 = 2\n",
            " 2 * 2 = 4\n",
            " 2 * 3 = 6\n",
            " 2 * 4 = 8\n",
            " 2 * 5 = 10\n",
            " 2 * 6 = 12\n",
            " 2 * 7 = 14\n",
            " 2 * 8 = 16\n",
            " 2 * 9 = 18\n",
            " 2 * 10 = 20\n"
          ]
        }
      ]
    }
  ]
}